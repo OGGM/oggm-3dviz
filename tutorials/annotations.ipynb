{
 "cells": [
  {
   "cell_type": "markdown",
   "id": "71450f7c-6484-4bc0-b840-9cc9a422449a",
   "metadata": {},
   "source": [
    "# Annotating your 3D glacier visualisations\n",
    "\n",
    "To enhance the clarity and appeal of your 3D glacier visualizations, we've incorporated additional annotation options. This guide will walk you through what's currently available and how to utilize them effectively. Here's a brief overview of what we offer:\n",
    "\n",
    "- Arrow annotation (e.g. north arrow)\n",
    "- Point annotation (e.g. labeling a mountain peak)\n",
    "- Text annotation (e.g. adding a heading)\n",
    "- Mask annotation (e.g. indicating the glacier extent from a previous time)\n",
    "- Legend annotation (e.g. adding a legend for the displayed outline)\n",
    "\n",
    "For more detailed information on each annotation type, please refer to the following sections. Enjoy exploring!"
   ]
  },
  {
   "cell_type": "markdown",
   "id": "e8e0c01b-6a14-45c4-97f4-d55140909c77",
   "metadata": {},
   "source": [
    "## Open data and create 3D object"
   ]
  },
  {
   "cell_type": "code",
   "id": "5e8cca3a-e23d-48e0-ba09-0271ea30530f",
   "metadata": {
    "tags": [],
    "jupyter": {
     "is_executing": true
    }
   },
   "source": [
    "import xarray as xr\n",
    "from glacier3dviz.tools import Glacier3DViz\n",
    "\n",
    "ds_glacier = xr.open_dataset(\"oggm_constant_climate_dummy_data.nc\")\n",
    "\n",
    "viz = Glacier3DViz(\n",
    "    ds_glacier,  # the dataset for visualisation\n",
    "    camera_args={  # arguments for the point of view\n",
    "        'azimuth': -135, # rotate the map around the z-axis\n",
    "        'elevation': 20,  # set the elevation above ground of the point of view\n",
    "    }\n",
    ")"
   ],
   "outputs": [],
   "execution_count": null
  },
  {
   "cell_type": "markdown",
   "id": "51d3b1e2-c1d1-4687-801a-879febcb76d7",
   "metadata": {},
   "source": [
    "## ArrowAnnotation\n",
    "\n",
    "This feature allows you to add an arrow with accompanying text to your plot. You can utilize it to highlight points of interest or provide orientation, such as a north arrow, as demonstrated in the example below."
   ]
  },
  {
   "cell_type": "code",
   "id": "48874661-d105-435b-ba1f-103ca41240cc",
   "metadata": {
    "tags": []
   },
   "source": [
    "from glacier3dviz.tools.map_annotations import ArrowAnnotation\n",
    "\n",
    "# if you want to see all available options uncomment the line below\n",
    "# ArrowAnnotation?"
   ],
   "outputs": [],
   "execution_count": null
  },
  {
   "cell_type": "code",
   "id": "82f10205-2fab-40dd-a970-c29365798866",
   "metadata": {
    "tags": []
   },
   "source": [
    "north_arrow = ArrowAnnotation(\n",
    "    text='N',\n",
    "    y_position=0.5,\n",
    "    x_position=-0.1,\n",
    "    arrow_magnitude=0.2,\n",
    "    text_position_offset=[-0.02, 0.02, 0],\n",
    "    )\n",
    "\n",
    "viz.plot_year(2050,\n",
    "              additional_annotations=[north_arrow])"
   ],
   "outputs": [],
   "execution_count": null
  },
  {
   "cell_type": "markdown",
   "id": "9a33b473-e7cb-4364-9fd6-96242601ad6d",
   "metadata": {},
   "source": [
    "## PointAnnotation\n",
    "\n",
    "With a point annotation, you can label interesting points in your visualization, such as a mountain peak:"
   ]
  },
  {
   "cell_type": "code",
   "id": "66c4640a-d447-4860-ae9e-0090ab10f260",
   "metadata": {
    "tags": []
   },
   "source": [
    "from glacier3dviz.tools.map_annotations import PointAnnotation\n",
    "\n",
    "# if you want to see all available options uncomment the line below\n",
    "#PointAnnotation?"
   ],
   "outputs": [],
   "execution_count": null
  },
  {
   "cell_type": "code",
   "id": "49047431-d8fc-4f87-8bd7-196a2d0b6357",
   "metadata": {
    "tags": []
   },
   "source": [
    "finsteraarhorn = PointAnnotation(\n",
    "    latitude=46.53703, #46.53677,\n",
    "    longitude=8.12611, #7.96258,\n",
    "    height=4274,\n",
    "    text='Finsteraarhorn\\n    4274 m',\n",
    "    font_size=25,\n",
    "    text_color='blue',\n",
    "    point_color='black',\n",
    "    point_size=10,\n",
    "    shape=None,\n",
    "    render_points_as_spheres=True,\n",
    "    always_visible=True,\n",
    ")\n",
    "\n",
    "viz.plot_year(2050,\n",
    "              additional_annotations=[finsteraarhorn])"
   ],
   "outputs": [],
   "execution_count": null
  },
  {
   "cell_type": "markdown",
   "id": "c510a57f-51b3-4d34-9965-260356ad94f5",
   "metadata": {},
   "source": [
    "## TextAnnotation\n",
    "\n",
    "Adding plain text to the visualisation:"
   ]
  },
  {
   "cell_type": "code",
   "id": "14b784af-d46c-4b6a-97f5-843461d7fb7f",
   "metadata": {
    "tags": []
   },
   "source": [
    "from glacier3dviz.tools.map_annotations import TextAnnotation\n",
    "\n",
    "# if you want to see all available options uncomment the line below\n",
    "#TextAnnotation?"
   ],
   "outputs": [],
   "execution_count": null
  },
  {
   "cell_type": "code",
   "id": "22ebe5ed-653e-4dff-94b7-9ac9792840c7",
   "metadata": {
    "tags": []
   },
   "source": [
    "heading = TextAnnotation(\n",
    "    text='Visualizing dummy data',\n",
    "    position='upper_edge',\n",
    ")\n",
    "\n",
    "viz.plot_year(2050,\n",
    "              additional_annotations=[heading])"
   ],
   "outputs": [],
   "execution_count": null
  },
  {
   "cell_type": "markdown",
   "id": "c90de2dd-e21e-4944-b31e-866c520993ae",
   "metadata": {},
   "source": [
    "## MaskAnnotation\n",
    "\n",
    "Adding a mask to the topography can be a useful reference tool. This might include displaying past extents of a glacier area or simply its outline. Conveniently, both our test data and the default output from OGGM include these masks. Let's explore how incorporating a mask can enhance our visualizations:"
   ]
  },
  {
   "cell_type": "code",
   "id": "c6dac251-7bab-4ac0-91d9-fc5ff4a34487",
   "metadata": {
    "tags": []
   },
   "source": [
    "from glacier3dviz.tools.map_annotations import MaskAnnotation\n",
    "\n",
    "# if you want to see all available options uncomment the line below\n",
    "# MaskAnnotation?"
   ],
   "outputs": [],
   "execution_count": null
  },
  {
   "cell_type": "code",
   "id": "be52cc98-da53-416b-925d-bfd9b0af3dd5",
   "metadata": {
    "tags": []
   },
   "source": [
    "outline_area = MaskAnnotation(\n",
    "    mask_data='glacier_mask',\n",
    "    mask_color=[255, 0, 255, 150],  # provided in RGBA with 255 convention\n",
    "    add_z=20,  # make it a bit higher to see everything\n",
    ")\n",
    "\n",
    "viz.plot_year(2050,\n",
    "              additional_annotations=[outline_area])"
   ],
   "outputs": [],
   "execution_count": null
  },
  {
   "cell_type": "code",
   "id": "4572b05c-4b41-4c3b-a98b-aeee010abaac",
   "metadata": {
    "tags": []
   },
   "source": [
    "outline = MaskAnnotation(\n",
    "    mask_data='glacier_ext',\n",
    "    mask_color=[0, 0, 0, 255],  # provided in RGBA with 255 convention\n",
    "    add_z=0.1,  # add some height for plotting the MaskAnnotation on top of topography\n",
    ")\n",
    "\n",
    "viz.plot_year(2050,\n",
    "              additional_annotations=[outline])"
   ],
   "outputs": [],
   "execution_count": null
  },
  {
   "cell_type": "markdown",
   "id": "70abaff4-f158-46bd-9956-9e4e6ecc108b",
   "metadata": {},
   "source": [
    "## LegendAnnotation\n",
    "\n",
    "To provide additional information about what is displayed, we can include a legend, for example, for the outline added above:"
   ]
  },
  {
   "cell_type": "code",
   "id": "3348218f-5a12-4c3f-bfa0-a3ef223ef86d",
   "metadata": {
    "tags": []
   },
   "source": [
    "from glacier3dviz.tools.map_annotations import LegendAnnotation\n",
    "\n",
    "# if you want to see all available options uncomment the line below\n",
    "# LegendAnnotation?"
   ],
   "outputs": [],
   "execution_count": null
  },
  {
   "cell_type": "code",
   "id": "5c420f16-8993-41f2-b25b-5eccc600b352",
   "metadata": {
    "tags": []
   },
   "source": [
    "outline_legend = LegendAnnotation(\n",
    "    labels=[[' RGI Outlines', 'black']],\n",
    ")\n",
    "\n",
    "viz.plot_year(2050,\n",
    "              additional_annotations=[outline, outline_legend])"
   ],
   "outputs": [],
   "execution_count": null
  },
  {
   "cell_type": "markdown",
   "id": "86f2bd30-a3f8-4fac-862b-4a02aed0c2cb",
   "metadata": {},
   "source": [
    "## All Annotations together\n",
    "\n",
    "For adding multiple annotations you just can provide them as a list:"
   ]
  },
  {
   "cell_type": "code",
   "id": "7537c314-1244-4f91-81d4-7f14bdd8e013",
   "metadata": {
    "tags": []
   },
   "source": [
    "viz.plot_year(2050,\n",
    "              additional_annotations=[north_arrow, finsteraarhorn, outline, outline_legend])"
   ],
   "outputs": [],
   "execution_count": null
  },
  {
   "cell_type": "markdown",
   "id": "79b3d9e4-c209-44f9-bca8-36ea99ad8510",
   "metadata": {},
   "source": [
    "## What's next?\n",
    "\n",
    "- Check out [Advanced Visualizations](advanced_visualizations.ipynb)\n",
    "- Check out [General styling of 3D visualisations](general_styling.ipynb)\n",
    "- Or back to the [table of content](welcome.ipynb)"
   ]
  }
 ],
 "metadata": {
  "kernelspec": {
   "display_name": "Python 3 (ipykernel)",
   "language": "python",
   "name": "python3"
  },
  "language_info": {
   "codemirror_mode": {
    "name": "ipython",
    "version": 3
   },
   "file_extension": ".py",
   "mimetype": "text/x-python",
   "name": "python",
   "nbconvert_exporter": "python",
   "pygments_lexer": "ipython3",
   "version": "3.10.10"
  }
 },
 "nbformat": 4,
 "nbformat_minor": 5
}
